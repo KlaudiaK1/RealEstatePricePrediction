{
 "cells": [
  {
   "cell_type": "markdown",
   "id": "cd654946",
   "metadata": {},
   "source": [
    "# Machine learning models - flats"
   ]
  },
  {
   "cell_type": "code",
   "execution_count": 1,
   "id": "de9d1433",
   "metadata": {},
   "outputs": [],
   "source": [
    "import pandas as pd\n",
    "import xgboost as xg\n",
    "from sklearn import preprocessing\n",
    "from sklearn.model_selection import train_test_split, GridSearchCV\n",
    "from sklearn.metrics import mean_squared_error as MSE, make_scorer\n",
    "from sklearn.linear_model import LinearRegression\n",
    "from math import sqrt\n",
    "import tensorflow as tf\n",
    "from tensorflow import keras\n",
    "from tensorflow.keras import layers\n",
    "from matplotlib import pyplot as plt\n",
    "from scikeras.wrappers import KerasClassifier\n",
    "import joblib\n",
    "\n",
    "import warnings\n",
    "warnings.filterwarnings('ignore')"
   ]
  },
  {
   "cell_type": "code",
   "execution_count": 2,
   "id": "987d5dcf",
   "metadata": {},
   "outputs": [
    {
     "data": {
      "text/html": [
       "<div>\n",
       "<style scoped>\n",
       "    .dataframe tbody tr th:only-of-type {\n",
       "        vertical-align: middle;\n",
       "    }\n",
       "\n",
       "    .dataframe tbody tr th {\n",
       "        vertical-align: top;\n",
       "    }\n",
       "\n",
       "    .dataframe thead th {\n",
       "        text-align: right;\n",
       "    }\n",
       "</style>\n",
       "<table border=\"1\" class=\"dataframe\">\n",
       "  <thead>\n",
       "    <tr style=\"text-align: right;\">\n",
       "      <th></th>\n",
       "      <th>price</th>\n",
       "      <th>price_per_square_meter</th>\n",
       "      <th>area</th>\n",
       "      <th>number_of_rooms</th>\n",
       "      <th>finishing_standard</th>\n",
       "      <th>floor</th>\n",
       "      <th>rent</th>\n",
       "      <th>heating</th>\n",
       "      <th>market</th>\n",
       "      <th>building_type</th>\n",
       "      <th>...</th>\n",
       "      <th>has_garden</th>\n",
       "      <th>has_terrace</th>\n",
       "      <th>has_parking</th>\n",
       "      <th>is_furnished</th>\n",
       "      <th>has_lift</th>\n",
       "      <th>has_security_protection</th>\n",
       "      <th>is_duplex</th>\n",
       "      <th>has_basement</th>\n",
       "      <th>number_of_floors</th>\n",
       "      <th>age</th>\n",
       "    </tr>\n",
       "  </thead>\n",
       "  <tbody>\n",
       "    <tr>\n",
       "      <th>0</th>\n",
       "      <td>950000.0</td>\n",
       "      <td>14175.0</td>\n",
       "      <td>67.02</td>\n",
       "      <td>3</td>\n",
       "      <td>2</td>\n",
       "      <td>6</td>\n",
       "      <td>0.067777</td>\n",
       "      <td>4</td>\n",
       "      <td>1</td>\n",
       "      <td>2</td>\n",
       "      <td>...</td>\n",
       "      <td>0</td>\n",
       "      <td>0</td>\n",
       "      <td>1</td>\n",
       "      <td>1</td>\n",
       "      <td>1</td>\n",
       "      <td>1</td>\n",
       "      <td>0</td>\n",
       "      <td>0</td>\n",
       "      <td>6</td>\n",
       "      <td>0.060465</td>\n",
       "    </tr>\n",
       "    <tr>\n",
       "      <th>1</th>\n",
       "      <td>264900.0</td>\n",
       "      <td>9811.0</td>\n",
       "      <td>27.00</td>\n",
       "      <td>1</td>\n",
       "      <td>2</td>\n",
       "      <td>5</td>\n",
       "      <td>0.051110</td>\n",
       "      <td>4</td>\n",
       "      <td>1</td>\n",
       "      <td>2</td>\n",
       "      <td>...</td>\n",
       "      <td>0</td>\n",
       "      <td>0</td>\n",
       "      <td>0</td>\n",
       "      <td>0</td>\n",
       "      <td>1</td>\n",
       "      <td>1</td>\n",
       "      <td>0</td>\n",
       "      <td>0</td>\n",
       "      <td>8</td>\n",
       "      <td>0.255814</td>\n",
       "    </tr>\n",
       "    <tr>\n",
       "      <th>2</th>\n",
       "      <td>464000.0</td>\n",
       "      <td>8000.0</td>\n",
       "      <td>58.00</td>\n",
       "      <td>3</td>\n",
       "      <td>2</td>\n",
       "      <td>2</td>\n",
       "      <td>0.038888</td>\n",
       "      <td>1</td>\n",
       "      <td>1</td>\n",
       "      <td>0</td>\n",
       "      <td>...</td>\n",
       "      <td>0</td>\n",
       "      <td>0</td>\n",
       "      <td>1</td>\n",
       "      <td>0</td>\n",
       "      <td>1</td>\n",
       "      <td>0</td>\n",
       "      <td>0</td>\n",
       "      <td>0</td>\n",
       "      <td>3</td>\n",
       "      <td>0.023256</td>\n",
       "    </tr>\n",
       "    <tr>\n",
       "      <th>3</th>\n",
       "      <td>199900.0</td>\n",
       "      <td>5666.0</td>\n",
       "      <td>35.28</td>\n",
       "      <td>2</td>\n",
       "      <td>2</td>\n",
       "      <td>4</td>\n",
       "      <td>0.046666</td>\n",
       "      <td>4</td>\n",
       "      <td>1</td>\n",
       "      <td>2</td>\n",
       "      <td>...</td>\n",
       "      <td>0</td>\n",
       "      <td>0</td>\n",
       "      <td>0</td>\n",
       "      <td>0</td>\n",
       "      <td>0</td>\n",
       "      <td>0</td>\n",
       "      <td>0</td>\n",
       "      <td>1</td>\n",
       "      <td>4</td>\n",
       "      <td>0.032558</td>\n",
       "    </tr>\n",
       "    <tr>\n",
       "      <th>4</th>\n",
       "      <td>299000.0</td>\n",
       "      <td>6229.0</td>\n",
       "      <td>48.00</td>\n",
       "      <td>3</td>\n",
       "      <td>2</td>\n",
       "      <td>5</td>\n",
       "      <td>0.074443</td>\n",
       "      <td>4</td>\n",
       "      <td>1</td>\n",
       "      <td>2</td>\n",
       "      <td>...</td>\n",
       "      <td>0</td>\n",
       "      <td>0</td>\n",
       "      <td>0</td>\n",
       "      <td>0</td>\n",
       "      <td>1</td>\n",
       "      <td>0</td>\n",
       "      <td>0</td>\n",
       "      <td>1</td>\n",
       "      <td>10</td>\n",
       "      <td>0.032558</td>\n",
       "    </tr>\n",
       "  </tbody>\n",
       "</table>\n",
       "<p>5 rows × 28 columns</p>\n",
       "</div>"
      ],
      "text/plain": [
       "      price  price_per_square_meter   area  number_of_rooms  \\\n",
       "0  950000.0                 14175.0  67.02                3   \n",
       "1  264900.0                  9811.0  27.00                1   \n",
       "2  464000.0                  8000.0  58.00                3   \n",
       "3  199900.0                  5666.0  35.28                2   \n",
       "4  299000.0                  6229.0  48.00                3   \n",
       "\n",
       "   finishing_standard  floor      rent  heating  market  building_type  ...  \\\n",
       "0                   2      6  0.067777        4       1              2  ...   \n",
       "1                   2      5  0.051110        4       1              2  ...   \n",
       "2                   2      2  0.038888        1       1              0  ...   \n",
       "3                   2      4  0.046666        4       1              2  ...   \n",
       "4                   2      5  0.074443        4       1              2  ...   \n",
       "\n",
       "   has_garden  has_terrace  has_parking  is_furnished  has_lift  \\\n",
       "0           0            0            1             1         1   \n",
       "1           0            0            0             0         1   \n",
       "2           0            0            1             0         1   \n",
       "3           0            0            0             0         0   \n",
       "4           0            0            0             0         1   \n",
       "\n",
       "   has_security_protection  is_duplex  has_basement  number_of_floors  \\\n",
       "0                        1          0             0                 6   \n",
       "1                        1          0             0                 8   \n",
       "2                        0          0             0                 3   \n",
       "3                        0          0             1                 4   \n",
       "4                        0          0             1                10   \n",
       "\n",
       "        age  \n",
       "0  0.060465  \n",
       "1  0.255814  \n",
       "2  0.023256  \n",
       "3  0.032558  \n",
       "4  0.032558  \n",
       "\n",
       "[5 rows x 28 columns]"
      ]
     },
     "execution_count": 2,
     "metadata": {},
     "output_type": "execute_result"
    }
   ],
   "source": [
    "data = pd.read_csv('./preprocessed_dataset_flats_1_1.csv', index_col = 0)\n",
    "data.head()"
   ]
  },
  {
   "cell_type": "code",
   "execution_count": 3,
   "id": "70045e39",
   "metadata": {},
   "outputs": [],
   "source": [
    "# data = data.drop('price_per_square_meter', axis = 1) \n",
    "data = pd.read_csv('./preprocessed_dataset_flats.csv', index_col = 0)"
   ]
  },
  {
   "cell_type": "markdown",
   "id": "74c22ad0",
   "metadata": {},
   "source": [
    "### Split data into train and test datasets"
   ]
  },
  {
   "cell_type": "code",
   "execution_count": 4,
   "id": "b417837e",
   "metadata": {},
   "outputs": [],
   "source": [
    "X, y = data.drop('price', axis = 1),data['price']\n",
    "train_X, test_X, train_y, test_y = train_test_split(X, y, test_size = 0.3, random_state = 4)"
   ]
  },
  {
   "cell_type": "markdown",
   "id": "b557b895",
   "metadata": {},
   "source": [
    "### Linear regression"
   ]
  },
  {
   "cell_type": "code",
   "execution_count": 5,
   "id": "abd7a6ce",
   "metadata": {},
   "outputs": [
    {
     "data": {
      "text/html": [
       "<style>#sk-container-id-1 {color: black;background-color: white;}#sk-container-id-1 pre{padding: 0;}#sk-container-id-1 div.sk-toggleable {background-color: white;}#sk-container-id-1 label.sk-toggleable__label {cursor: pointer;display: block;width: 100%;margin-bottom: 0;padding: 0.3em;box-sizing: border-box;text-align: center;}#sk-container-id-1 label.sk-toggleable__label-arrow:before {content: \"▸\";float: left;margin-right: 0.25em;color: #696969;}#sk-container-id-1 label.sk-toggleable__label-arrow:hover:before {color: black;}#sk-container-id-1 div.sk-estimator:hover label.sk-toggleable__label-arrow:before {color: black;}#sk-container-id-1 div.sk-toggleable__content {max-height: 0;max-width: 0;overflow: hidden;text-align: left;background-color: #f0f8ff;}#sk-container-id-1 div.sk-toggleable__content pre {margin: 0.2em;color: black;border-radius: 0.25em;background-color: #f0f8ff;}#sk-container-id-1 input.sk-toggleable__control:checked~div.sk-toggleable__content {max-height: 200px;max-width: 100%;overflow: auto;}#sk-container-id-1 input.sk-toggleable__control:checked~label.sk-toggleable__label-arrow:before {content: \"▾\";}#sk-container-id-1 div.sk-estimator input.sk-toggleable__control:checked~label.sk-toggleable__label {background-color: #d4ebff;}#sk-container-id-1 div.sk-label input.sk-toggleable__control:checked~label.sk-toggleable__label {background-color: #d4ebff;}#sk-container-id-1 input.sk-hidden--visually {border: 0;clip: rect(1px 1px 1px 1px);clip: rect(1px, 1px, 1px, 1px);height: 1px;margin: -1px;overflow: hidden;padding: 0;position: absolute;width: 1px;}#sk-container-id-1 div.sk-estimator {font-family: monospace;background-color: #f0f8ff;border: 1px dotted black;border-radius: 0.25em;box-sizing: border-box;margin-bottom: 0.5em;}#sk-container-id-1 div.sk-estimator:hover {background-color: #d4ebff;}#sk-container-id-1 div.sk-parallel-item::after {content: \"\";width: 100%;border-bottom: 1px solid gray;flex-grow: 1;}#sk-container-id-1 div.sk-label:hover label.sk-toggleable__label {background-color: #d4ebff;}#sk-container-id-1 div.sk-serial::before {content: \"\";position: absolute;border-left: 1px solid gray;box-sizing: border-box;top: 0;bottom: 0;left: 50%;z-index: 0;}#sk-container-id-1 div.sk-serial {display: flex;flex-direction: column;align-items: center;background-color: white;padding-right: 0.2em;padding-left: 0.2em;position: relative;}#sk-container-id-1 div.sk-item {position: relative;z-index: 1;}#sk-container-id-1 div.sk-parallel {display: flex;align-items: stretch;justify-content: center;background-color: white;position: relative;}#sk-container-id-1 div.sk-item::before, #sk-container-id-1 div.sk-parallel-item::before {content: \"\";position: absolute;border-left: 1px solid gray;box-sizing: border-box;top: 0;bottom: 0;left: 50%;z-index: -1;}#sk-container-id-1 div.sk-parallel-item {display: flex;flex-direction: column;z-index: 1;position: relative;background-color: white;}#sk-container-id-1 div.sk-parallel-item:first-child::after {align-self: flex-end;width: 50%;}#sk-container-id-1 div.sk-parallel-item:last-child::after {align-self: flex-start;width: 50%;}#sk-container-id-1 div.sk-parallel-item:only-child::after {width: 0;}#sk-container-id-1 div.sk-dashed-wrapped {border: 1px dashed gray;margin: 0 0.4em 0.5em 0.4em;box-sizing: border-box;padding-bottom: 0.4em;background-color: white;}#sk-container-id-1 div.sk-label label {font-family: monospace;font-weight: bold;display: inline-block;line-height: 1.2em;}#sk-container-id-1 div.sk-label-container {text-align: center;}#sk-container-id-1 div.sk-container {/* jupyter's `normalize.less` sets `[hidden] { display: none; }` but bootstrap.min.css set `[hidden] { display: none !important; }` so we also need the `!important` here to be able to override the default hidden behavior on the sphinx rendered scikit-learn.org. See: https://github.com/scikit-learn/scikit-learn/issues/21755 */display: inline-block !important;position: relative;}#sk-container-id-1 div.sk-text-repr-fallback {display: none;}</style><div id=\"sk-container-id-1\" class=\"sk-top-container\"><div class=\"sk-text-repr-fallback\"><pre>LinearRegression()</pre><b>In a Jupyter environment, please rerun this cell to show the HTML representation or trust the notebook. <br />On GitHub, the HTML representation is unable to render, please try loading this page with nbviewer.org.</b></div><div class=\"sk-container\" hidden><div class=\"sk-item\"><div class=\"sk-estimator sk-toggleable\"><input class=\"sk-toggleable__control sk-hidden--visually\" id=\"sk-estimator-id-1\" type=\"checkbox\" checked><label for=\"sk-estimator-id-1\" class=\"sk-toggleable__label sk-toggleable__label-arrow\">LinearRegression</label><div class=\"sk-toggleable__content\"><pre>LinearRegression()</pre></div></div></div></div></div>"
      ],
      "text/plain": [
       "LinearRegression()"
      ]
     },
     "execution_count": 5,
     "metadata": {},
     "output_type": "execute_result"
    }
   ],
   "source": [
    "lin_reg = LinearRegression()\n",
    "\n",
    "lin_reg.fit(train_X, train_y)"
   ]
  },
  {
   "cell_type": "code",
   "execution_count": 6,
   "id": "338be71a",
   "metadata": {},
   "outputs": [],
   "source": [
    "lin_reg_pred = lin_reg.predict(test_X)"
   ]
  },
  {
   "cell_type": "markdown",
   "id": "e884336a",
   "metadata": {},
   "source": [
    "#### Mead Squared Error for the linear regression model"
   ]
  },
  {
   "cell_type": "code",
   "execution_count": 7,
   "id": "cfd801e3",
   "metadata": {},
   "outputs": [
    {
     "name": "stdout",
     "output_type": "stream",
     "text": [
      "190189.5678014132\n"
     ]
    }
   ],
   "source": [
    "print(sqrt(MSE(test_y, lin_reg_pred)))"
   ]
  },
  {
   "cell_type": "code",
   "execution_count": 8,
   "id": "76e78f94",
   "metadata": {},
   "outputs": [],
   "source": [
    "lin_reg_coef = lin_reg.coef_[:len(lin_reg.coef_) - 1]\n",
    "train_columns = train_X.drop('price_per_square_meter', axis = 1).columns\n",
    "# to remove"
   ]
  },
  {
   "cell_type": "code",
   "execution_count": 9,
   "id": "552fe616",
   "metadata": {},
   "outputs": [
    {
     "data": {
      "image/png": "[encoded data removed]",
      "text/plain": [
       "<Figure size 648x504 with 1 Axes>"
      ]
     },
     "metadata": {
      "needs_background": "light"
     },
     "output_type": "display_data"
    }
   ],
   "source": [
    "import matplotlib.pyplot as plt\n",
    "\n",
    "coefs = pd.DataFrame(\n",
    "   lin_reg_coef,\n",
    "   columns=['Coefficients'], index=train_columns\n",
    ")\n",
    "\n",
    "coefs.plot(kind='barh', figsize=(9, 7))\n",
    "plt.title('Linear regression')\n",
    "plt.axvline(x=0, color='.5')\n",
    "plt.subplots_adjust(left=.3)"
   ]
  },
  {
   "cell_type": "markdown",
   "id": "cbce3776",
   "metadata": {},
   "source": [
    "### XGBoost"
   ]
  },
  {
   "cell_type": "code",
   "execution_count": 10,
   "id": "ce8e191c",
   "metadata": {},
   "outputs": [
    {
     "name": "stdout",
     "output_type": "stream",
     "text": [
      "Fitting 5 folds for each of 27 candidates, totalling 135 fits\n",
      "[CV 1/5; 1/27] START max_depth=2, n_estimators=100, seed=4......................\n",
      "[CV 1/5; 1/27] END max_depth=2, n_estimators=100, seed=4;, score=-3341094647.208 total time=   0.8s\n",
      "[CV 2/5; 1/27] START max_depth=2, n_estimators=100, seed=4......................\n",
      "[CV 2/5; 1/27] END max_depth=2, n_estimators=100, seed=4;, score=-3019015822.950 total time=   0.7s\n",
      "[CV 3/5; 1/27] START max_depth=2, n_estimators=100, seed=4......................\n",
      "[CV 3/5; 1/27] END max_depth=2, n_estimators=100, seed=4;, score=-2458661724.989 total time=   0.7s\n",
      "[CV 4/5; 1/27] START max_depth=2, n_estimators=100, seed=4......................\n",
      "[CV 4/5; 1/27] END max_depth=2, n_estimators=100, seed=4;, score=-2599304817.030 total time=   0.7s\n",
      "[CV 5/5; 1/27] START max_depth=2, n_estimators=100, seed=4......................\n",
      "[CV 5/5; 1/27] END max_depth=2, n_estimators=100, seed=4;, score=-2410470599.931 total time=   0.7s\n",
      "[CV 1/5; 2/27] START max_depth=2, n_estimators=100, seed=8......................\n",
      "[CV 1/5; 2/27] END max_depth=2, n_estimators=100, seed=8;, score=-3341094647.208 total time=   0.7s\n",
      "[CV 2/5; 2/27] START max_depth=2, n_estimators=100, seed=8......................\n",
      "[CV 2/5; 2/27] END max_depth=2, n_estimators=100, seed=8;, score=-3019015822.950 total time=   0.8s\n",
      "[CV 3/5; 2/27] START max_depth=2, n_estimators=100, seed=8......................\n",
      "[CV 3/5; 2/27] END max_depth=2, n_estimators=100, seed=8;, score=-2458661724.989 total time=   0.8s\n",
      "[CV 4/5; 2/27] START max_depth=2, n_estimators=100, seed=8......................\n",
      "[CV 4/5; 2/27] END max_depth=2, n_estimators=100, seed=8;, score=-2599304817.030 total time=   0.7s\n",
      "[CV 5/5; 2/27] START max_depth=2, n_estimators=100, seed=8......................\n",
      "[CV 5/5; 2/27] END max_depth=2, n_estimators=100, seed=8;, score=-2410470599.931 total time=   0.7s\n",
      "[CV 1/5; 3/27] START max_depth=2, n_estimators=100, seed=16.....................\n",
      "[CV 1/5; 3/27] END max_depth=2, n_estimators=100, seed=16;, score=-3341094647.208 total time=   0.8s\n",
      "[CV 2/5; 3/27] START max_depth=2, n_estimators=100, seed=16.....................\n",
      "[CV 2/5; 3/27] END max_depth=2, n_estimators=100, seed=16;, score=-3019015822.950 total time=   0.8s\n",
      "[CV 3/5; 3/27] START max_depth=2, n_estimators=100, seed=16.....................\n",
      "[CV 3/5; 3/27] END max_depth=2, n_estimators=100, seed=16;, score=-2458661724.989 total time=   0.9s\n",
      "[CV 4/5; 3/27] START max_depth=2, n_estimators=100, seed=16.....................\n",
      "[CV 4/5; 3/27] END max_depth=2, n_estimators=100, seed=16;, score=-2599304817.030 total time=   2.2s\n",
      "[CV 5/5; 3/27] START max_depth=2, n_estimators=100, seed=16.....................\n",
      "[CV 5/5; 3/27] END max_depth=2, n_estimators=100, seed=16;, score=-2410470599.931 total time=   0.9s\n",
      "[CV 1/5; 4/27] START max_depth=2, n_estimators=200, seed=4......................\n",
      "[CV 1/5; 4/27] END max_depth=2, n_estimators=200, seed=4;, score=-2301066865.849 total time=   1.6s\n",
      "[CV 2/5; 4/27] START max_depth=2, n_estimators=200, seed=4......................\n",
      "[CV 2/5; 4/27] END max_depth=2, n_estimators=200, seed=4;, score=-1837489886.917 total time=   1.7s\n",
      "[CV 3/5; 4/27] START max_depth=2, n_estimators=200, seed=4......................\n",
      "[CV 3/5; 4/27] END max_depth=2, n_estimators=200, seed=4;, score=-1505918851.032 total time=   1.7s\n",
      "[CV 4/5; 4/27] START max_depth=2, n_estimators=200, seed=4......................\n",
      "[CV 4/5; 4/27] END max_depth=2, n_estimators=200, seed=4;, score=-1570955650.367 total time=   1.6s\n",
      "[CV 5/5; 4/27] START max_depth=2, n_estimators=200, seed=4......................\n",
      "[CV 5/5; 4/27] END max_depth=2, n_estimators=200, seed=4;, score=-1489805220.656 total time=   1.6s\n",
      "[CV 1/5; 5/27] START max_depth=2, n_estimators=200, seed=8......................\n",
      "[CV 1/5; 5/27] END max_depth=2, n_estimators=200, seed=8;, score=-2301066865.849 total time=   1.7s\n",
      "[CV 2/5; 5/27] START max_depth=2, n_estimators=200, seed=8......................\n",
      "[CV 2/5; 5/27] END max_depth=2, n_estimators=200, seed=8;, score=-1837489886.917 total time=   1.6s\n",
      "[CV 3/5; 5/27] START max_depth=2, n_estimators=200, seed=8......................\n",
      "[CV 3/5; 5/27] END max_depth=2, n_estimators=200, seed=8;, score=-1505918851.032 total time=   1.7s\n",
      "[CV 4/5; 5/27] START max_depth=2, n_estimators=200, seed=8......................\n",
      "[CV 4/5; 5/27] END max_depth=2, n_estimators=200, seed=8;, score=-1570955650.367 total time=   2.0s\n",
      "[CV 5/5; 5/27] START max_depth=2, n_estimators=200, seed=8......................\n",
      "[CV 5/5; 5/27] END max_depth=2, n_estimators=200, seed=8;, score=-1489805220.656 total time=   2.1s\n",
      "[CV 1/5; 6/27] START max_depth=2, n_estimators=200, seed=16.....................\n",
      "[CV 1/5; 6/27] END max_depth=2, n_estimators=200, seed=16;, score=-2301066865.849 total time=   2.7s\n",
      "[CV 2/5; 6/27] START max_depth=2, n_estimators=200, seed=16.....................\n",
      "[CV 2/5; 6/27] END max_depth=2, n_estimators=200, seed=16;, score=-1837489886.917 total time=   2.0s\n",
      "[CV 3/5; 6/27] START max_depth=2, n_estimators=200, seed=16.....................\n",
      "[CV 3/5; 6/27] END max_depth=2, n_estimators=200, seed=16;, score=-1505918851.032 total time=   1.8s\n",
      "[CV 4/5; 6/27] START max_depth=2, n_estimators=200, seed=16.....................\n",
      "[CV 4/5; 6/27] END max_depth=2, n_estimators=200, seed=16;, score=-1570955650.367 total time=   1.8s\n",
      "[CV 5/5; 6/27] START max_depth=2, n_estimators=200, seed=16.....................\n",
      "[CV 5/5; 6/27] END max_depth=2, n_estimators=200, seed=16;, score=-1489805220.656 total time=   2.0s\n",
      "[CV 1/5; 7/27] START max_depth=2, n_estimators=500, seed=4......................\n",
      "[CV 1/5; 7/27] END max_depth=2, n_estimators=500, seed=4;, score=-1543134644.701 total time=   4.6s\n",
      "[CV 2/5; 7/27] START max_depth=2, n_estimators=500, seed=4......................\n",
      "[CV 2/5; 7/27] END max_depth=2, n_estimators=500, seed=4;, score=-1063542696.930 total time=   4.5s\n",
      "[CV 3/5; 7/27] START max_depth=2, n_estimators=500, seed=4......................\n",
      "[CV 3/5; 7/27] END max_depth=2, n_estimators=500, seed=4;, score=-937341831.787 total time=   4.4s\n",
      "[CV 4/5; 7/27] START max_depth=2, n_estimators=500, seed=4......................\n",
      "[CV 4/5; 7/27] END max_depth=2, n_estimators=500, seed=4;, score=-929902573.454 total time=   4.9s\n",
      "[CV 5/5; 7/27] START max_depth=2, n_estimators=500, seed=4......................\n",
      "[CV 5/5; 7/27] END max_depth=2, n_estimators=500, seed=4;, score=-892513887.762 total time=   5.6s\n",
      "[CV 1/5; 8/27] START max_depth=2, n_estimators=500, seed=8......................\n",
      "[CV 1/5; 8/27] END max_depth=2, n_estimators=500, seed=8;, score=-1543134644.701 total time=   4.9s\n",
      "[CV 2/5; 8/27] START max_depth=2, n_estimators=500, seed=8......................\n",
      "[CV 2/5; 8/27] END max_depth=2, n_estimators=500, seed=8;, score=-1063542696.930 total time=   4.5s\n",
      "[CV 3/5; 8/27] START max_depth=2, n_estimators=500, seed=8......................\n",
      "[CV 3/5; 8/27] END max_depth=2, n_estimators=500, seed=8;, score=-937341831.787 total time=   4.6s\n",
      "[CV 4/5; 8/27] START max_depth=2, n_estimators=500, seed=8......................\n",
      "[CV 4/5; 8/27] END max_depth=2, n_estimators=500, seed=8;, score=-929902573.454 total time=   5.2s\n",
      "[CV 5/5; 8/27] START max_depth=2, n_estimators=500, seed=8......................\n",
      "[CV 5/5; 8/27] END max_depth=2, n_estimators=500, seed=8;, score=-892513887.762 total time=   5.6s\n",
      "[CV 1/5; 9/27] START max_depth=2, n_estimators=500, seed=16.....................\n",
      "[CV 1/5; 9/27] END max_depth=2, n_estimators=500, seed=16;, score=-1543134644.701 total time=   5.9s\n",
      "[CV 2/5; 9/27] START max_depth=2, n_estimators=500, seed=16.....................\n",
      "[CV 2/5; 9/27] END max_depth=2, n_estimators=500, seed=16;, score=-1063542696.930 total time=   6.1s\n",
      "[CV 3/5; 9/27] START max_depth=2, n_estimators=500, seed=16.....................\n",
      "[CV 3/5; 9/27] END max_depth=2, n_estimators=500, seed=16;, score=-937341831.787 total time=   5.8s\n",
      "[CV 4/5; 9/27] START max_depth=2, n_estimators=500, seed=16.....................\n",
      "[CV 4/5; 9/27] END max_depth=2, n_estimators=500, seed=16;, score=-929902573.454 total time=   6.3s\n",
      "[CV 5/5; 9/27] START max_depth=2, n_estimators=500, seed=16.....................\n",
      "[CV 5/5; 9/27] END max_depth=2, n_estimators=500, seed=16;, score=-892513887.762 total time=   6.1s\n",
      "[CV 1/5; 10/27] START max_depth=4, n_estimators=100, seed=4.....................\n"
     ]
    },
    {
     "name": "stdout",
     "output_type": "stream",
     "text": [
      "[CV 1/5; 10/27] END max_depth=4, n_estimators=100, seed=4;, score=-1648368287.351 total time=   2.1s\n",
      "[CV 2/5; 10/27] START max_depth=4, n_estimators=100, seed=4.....................\n",
      "[CV 2/5; 10/27] END max_depth=4, n_estimators=100, seed=4;, score=-998193731.464 total time=   2.4s\n",
      "[CV 3/5; 10/27] START max_depth=4, n_estimators=100, seed=4.....................\n",
      "[CV 3/5; 10/27] END max_depth=4, n_estimators=100, seed=4;, score=-1221804675.310 total time=   2.2s\n",
      "[CV 4/5; 10/27] START max_depth=4, n_estimators=100, seed=4.....................\n",
      "[CV 4/5; 10/27] END max_depth=4, n_estimators=100, seed=4;, score=-671391217.817 total time=   2.1s\n",
      "[CV 5/5; 10/27] START max_depth=4, n_estimators=100, seed=4.....................\n",
      "[CV 5/5; 10/27] END max_depth=4, n_estimators=100, seed=4;, score=-841186803.990 total time=   2.1s\n",
      "[CV 1/5; 11/27] START max_depth=4, n_estimators=100, seed=8.....................\n",
      "[CV 1/5; 11/27] END max_depth=4, n_estimators=100, seed=8;, score=-1648368287.351 total time=   2.0s\n",
      "[CV 2/5; 11/27] START max_depth=4, n_estimators=100, seed=8.....................\n",
      "[CV 2/5; 11/27] END max_depth=4, n_estimators=100, seed=8;, score=-998193731.464 total time=   2.0s\n",
      "[CV 3/5; 11/27] START max_depth=4, n_estimators=100, seed=8.....................\n",
      "[CV 3/5; 11/27] END max_depth=4, n_estimators=100, seed=8;, score=-1221804675.310 total time=   1.9s\n",
      "[CV 4/5; 11/27] START max_depth=4, n_estimators=100, seed=8.....................\n",
      "[CV 4/5; 11/27] END max_depth=4, n_estimators=100, seed=8;, score=-671391217.817 total time=   1.9s\n",
      "[CV 5/5; 11/27] START max_depth=4, n_estimators=100, seed=8.....................\n",
      "[CV 5/5; 11/27] END max_depth=4, n_estimators=100, seed=8;, score=-841186803.990 total time=   1.9s\n",
      "[CV 1/5; 12/27] START max_depth=4, n_estimators=100, seed=16....................\n",
      "[CV 1/5; 12/27] END max_depth=4, n_estimators=100, seed=16;, score=-1648368287.351 total time=   1.9s\n",
      "[CV 2/5; 12/27] START max_depth=4, n_estimators=100, seed=16....................\n",
      "[CV 2/5; 12/27] END max_depth=4, n_estimators=100, seed=16;, score=-998193731.464 total time=   2.0s\n",
      "[CV 3/5; 12/27] START max_depth=4, n_estimators=100, seed=16....................\n",
      "[CV 3/5; 12/27] END max_depth=4, n_estimators=100, seed=16;, score=-1221804675.310 total time=   2.0s\n",
      "[CV 4/5; 12/27] START max_depth=4, n_estimators=100, seed=16....................\n",
      "[CV 4/5; 12/27] END max_depth=4, n_estimators=100, seed=16;, score=-671391217.817 total time=   2.0s\n",
      "[CV 5/5; 12/27] START max_depth=4, n_estimators=100, seed=16....................\n",
      "[CV 5/5; 12/27] END max_depth=4, n_estimators=100, seed=16;, score=-841186803.990 total time=   1.9s\n",
      "[CV 1/5; 13/27] START max_depth=4, n_estimators=200, seed=4.....................\n",
      "[CV 1/5; 13/27] END max_depth=4, n_estimators=200, seed=4;, score=-1463010076.175 total time=   3.6s\n",
      "[CV 2/5; 13/27] START max_depth=4, n_estimators=200, seed=4.....................\n",
      "[CV 2/5; 13/27] END max_depth=4, n_estimators=200, seed=4;, score=-799619320.328 total time=   3.4s\n",
      "[CV 3/5; 13/27] START max_depth=4, n_estimators=200, seed=4.....................\n",
      "[CV 3/5; 13/27] END max_depth=4, n_estimators=200, seed=4;, score=-1032328486.340 total time=   4.0s\n",
      "[CV 4/5; 13/27] START max_depth=4, n_estimators=200, seed=4.....................\n",
      "[CV 4/5; 13/27] END max_depth=4, n_estimators=200, seed=4;, score=-480378313.103 total time=   3.7s\n",
      "[CV 5/5; 13/27] START max_depth=4, n_estimators=200, seed=4.....................\n",
      "[CV 5/5; 13/27] END max_depth=4, n_estimators=200, seed=4;, score=-627391737.657 total time=   3.7s\n",
      "[CV 1/5; 14/27] START max_depth=4, n_estimators=200, seed=8.....................\n",
      "[CV 1/5; 14/27] END max_depth=4, n_estimators=200, seed=8;, score=-1463010076.175 total time=   3.8s\n",
      "[CV 2/5; 14/27] START max_depth=4, n_estimators=200, seed=8.....................\n",
      "[CV 2/5; 14/27] END max_depth=4, n_estimators=200, seed=8;, score=-799619320.328 total time=   4.0s\n",
      "[CV 3/5; 14/27] START max_depth=4, n_estimators=200, seed=8.....................\n",
      "[CV 3/5; 14/27] END max_depth=4, n_estimators=200, seed=8;, score=-1032328486.340 total time=   4.5s\n",
      "[CV 4/5; 14/27] START max_depth=4, n_estimators=200, seed=8.....................\n",
      "[CV 4/5; 14/27] END max_depth=4, n_estimators=200, seed=8;, score=-480378313.103 total time=   3.9s\n",
      "[CV 5/5; 14/27] START max_depth=4, n_estimators=200, seed=8.....................\n",
      "[CV 5/5; 14/27] END max_depth=4, n_estimators=200, seed=8;, score=-627391737.657 total time=   6.9s\n",
      "[CV 1/5; 15/27] START max_depth=4, n_estimators=200, seed=16....................\n",
      "[CV 1/5; 15/27] END max_depth=4, n_estimators=200, seed=16;, score=-1463010076.175 total time=   6.4s\n",
      "[CV 2/5; 15/27] START max_depth=4, n_estimators=200, seed=16....................\n",
      "[CV 2/5; 15/27] END max_depth=4, n_estimators=200, seed=16;, score=-799619320.328 total time=   6.2s\n",
      "[CV 3/5; 15/27] START max_depth=4, n_estimators=200, seed=16....................\n",
      "[CV 3/5; 15/27] END max_depth=4, n_estimators=200, seed=16;, score=-1032328486.340 total time=   5.2s\n",
      "[CV 4/5; 15/27] START max_depth=4, n_estimators=200, seed=16....................\n",
      "[CV 4/5; 15/27] END max_depth=4, n_estimators=200, seed=16;, score=-480378313.103 total time=   5.2s\n",
      "[CV 5/5; 15/27] START max_depth=4, n_estimators=200, seed=16....................\n",
      "[CV 5/5; 15/27] END max_depth=4, n_estimators=200, seed=16;, score=-627391737.657 total time=   4.1s\n",
      "[CV 1/5; 16/27] START max_depth=4, n_estimators=500, seed=4.....................\n",
      "[CV 1/5; 16/27] END max_depth=4, n_estimators=500, seed=4;, score=-1368129127.480 total time=  10.3s\n",
      "[CV 2/5; 16/27] START max_depth=4, n_estimators=500, seed=4.....................\n",
      "[CV 2/5; 16/27] END max_depth=4, n_estimators=500, seed=4;, score=-693425241.563 total time=  10.4s\n",
      "[CV 3/5; 16/27] START max_depth=4, n_estimators=500, seed=4.....................\n",
      "[CV 3/5; 16/27] END max_depth=4, n_estimators=500, seed=4;, score=-884337604.326 total time=  11.0s\n",
      "[CV 4/5; 16/27] START max_depth=4, n_estimators=500, seed=4.....................\n",
      "[CV 4/5; 16/27] END max_depth=4, n_estimators=500, seed=4;, score=-385280438.602 total time=  13.7s\n",
      "[CV 5/5; 16/27] START max_depth=4, n_estimators=500, seed=4.....................\n",
      "[CV 5/5; 16/27] END max_depth=4, n_estimators=500, seed=4;, score=-538247039.222 total time=  15.8s\n",
      "[CV 1/5; 17/27] START max_depth=4, n_estimators=500, seed=8.....................\n",
      "[CV 1/5; 17/27] END max_depth=4, n_estimators=500, seed=8;, score=-1368129127.480 total time=  11.5s\n",
      "[CV 2/5; 17/27] START max_depth=4, n_estimators=500, seed=8.....................\n",
      "[CV 2/5; 17/27] END max_depth=4, n_estimators=500, seed=8;, score=-693425241.563 total time=   9.6s\n",
      "[CV 3/5; 17/27] START max_depth=4, n_estimators=500, seed=8.....................\n",
      "[CV 3/5; 17/27] END max_depth=4, n_estimators=500, seed=8;, score=-884337604.326 total time=  10.0s\n",
      "[CV 4/5; 17/27] START max_depth=4, n_estimators=500, seed=8.....................\n",
      "[CV 4/5; 17/27] END max_depth=4, n_estimators=500, seed=8;, score=-385280438.602 total time=  13.3s\n",
      "[CV 5/5; 17/27] START max_depth=4, n_estimators=500, seed=8.....................\n",
      "[CV 5/5; 17/27] END max_depth=4, n_estimators=500, seed=8;, score=-538247039.222 total time=  16.0s\n",
      "[CV 1/5; 18/27] START max_depth=4, n_estimators=500, seed=16....................\n",
      "[CV 1/5; 18/27] END max_depth=4, n_estimators=500, seed=16;, score=-1368129127.480 total time=  12.6s\n",
      "[CV 2/5; 18/27] START max_depth=4, n_estimators=500, seed=16....................\n",
      "[CV 2/5; 18/27] END max_depth=4, n_estimators=500, seed=16;, score=-693425241.563 total time=  16.9s\n",
      "[CV 3/5; 18/27] START max_depth=4, n_estimators=500, seed=16....................\n",
      "[CV 3/5; 18/27] END max_depth=4, n_estimators=500, seed=16;, score=-884337604.326 total time=  18.1s\n",
      "[CV 4/5; 18/27] START max_depth=4, n_estimators=500, seed=16....................\n",
      "[CV 4/5; 18/27] END max_depth=4, n_estimators=500, seed=16;, score=-385280438.602 total time=  12.0s\n",
      "[CV 5/5; 18/27] START max_depth=4, n_estimators=500, seed=16....................\n",
      "[CV 5/5; 18/27] END max_depth=4, n_estimators=500, seed=16;, score=-538247039.222 total time=  10.5s\n",
      "[CV 1/5; 19/27] START max_depth=6, n_estimators=100, seed=4.....................\n",
      "[CV 1/5; 19/27] END max_depth=6, n_estimators=100, seed=4;, score=-1341016751.667 total time=   3.5s\n",
      "[CV 2/5; 19/27] START max_depth=6, n_estimators=100, seed=4.....................\n"
     ]
    },
    {
     "name": "stdout",
     "output_type": "stream",
     "text": [
      "[CV 2/5; 19/27] END max_depth=6, n_estimators=100, seed=4;, score=-1053660853.295 total time=   3.2s\n",
      "[CV 3/5; 19/27] START max_depth=6, n_estimators=100, seed=4.....................\n",
      "[CV 3/5; 19/27] END max_depth=6, n_estimators=100, seed=4;, score=-1325157777.452 total time=   2.9s\n",
      "[CV 4/5; 19/27] START max_depth=6, n_estimators=100, seed=4.....................\n",
      "[CV 4/5; 19/27] END max_depth=6, n_estimators=100, seed=4;, score=-427272633.595 total time=   2.8s\n",
      "[CV 5/5; 19/27] START max_depth=6, n_estimators=100, seed=4.....................\n",
      "[CV 5/5; 19/27] END max_depth=6, n_estimators=100, seed=4;, score=-457258294.752 total time=   3.3s\n",
      "[CV 1/5; 20/27] START max_depth=6, n_estimators=100, seed=8.....................\n",
      "[CV 1/5; 20/27] END max_depth=6, n_estimators=100, seed=8;, score=-1341016751.667 total time=   3.2s\n",
      "[CV 2/5; 20/27] START max_depth=6, n_estimators=100, seed=8.....................\n",
      "[CV 2/5; 20/27] END max_depth=6, n_estimators=100, seed=8;, score=-1053660853.295 total time=   3.4s\n",
      "[CV 3/5; 20/27] START max_depth=6, n_estimators=100, seed=8.....................\n",
      "[CV 3/5; 20/27] END max_depth=6, n_estimators=100, seed=8;, score=-1325157777.452 total time=   3.3s\n",
      "[CV 4/5; 20/27] START max_depth=6, n_estimators=100, seed=8.....................\n",
      "[CV 4/5; 20/27] END max_depth=6, n_estimators=100, seed=8;, score=-427272633.595 total time=   3.2s\n",
      "[CV 5/5; 20/27] START max_depth=6, n_estimators=100, seed=8.....................\n",
      "[CV 5/5; 20/27] END max_depth=6, n_estimators=100, seed=8;, score=-457258294.752 total time=   3.1s\n",
      "[CV 1/5; 21/27] START max_depth=6, n_estimators=100, seed=16....................\n",
      "[CV 1/5; 21/27] END max_depth=6, n_estimators=100, seed=16;, score=-1341016751.667 total time=   3.1s\n",
      "[CV 2/5; 21/27] START max_depth=6, n_estimators=100, seed=16....................\n",
      "[CV 2/5; 21/27] END max_depth=6, n_estimators=100, seed=16;, score=-1053660853.295 total time=   3.3s\n",
      "[CV 3/5; 21/27] START max_depth=6, n_estimators=100, seed=16....................\n",
      "[CV 3/5; 21/27] END max_depth=6, n_estimators=100, seed=16;, score=-1325157777.452 total time=   3.5s\n",
      "[CV 4/5; 21/27] START max_depth=6, n_estimators=100, seed=16....................\n",
      "[CV 4/5; 21/27] END max_depth=6, n_estimators=100, seed=16;, score=-427272633.595 total time=   3.3s\n",
      "[CV 5/5; 21/27] START max_depth=6, n_estimators=100, seed=16....................\n",
      "[CV 5/5; 21/27] END max_depth=6, n_estimators=100, seed=16;, score=-457258294.752 total time=   3.0s\n",
      "[CV 1/5; 22/27] START max_depth=6, n_estimators=200, seed=4.....................\n",
      "[CV 1/5; 22/27] END max_depth=6, n_estimators=200, seed=4;, score=-1295142969.812 total time=   6.2s\n",
      "[CV 2/5; 22/27] START max_depth=6, n_estimators=200, seed=4.....................\n",
      "[CV 2/5; 22/27] END max_depth=6, n_estimators=200, seed=4;, score=-1004426325.173 total time=   6.1s\n",
      "[CV 3/5; 22/27] START max_depth=6, n_estimators=200, seed=4.....................\n",
      "[CV 3/5; 22/27] END max_depth=6, n_estimators=200, seed=4;, score=-1289494318.885 total time=   5.8s\n",
      "[CV 4/5; 22/27] START max_depth=6, n_estimators=200, seed=4.....................\n",
      "[CV 4/5; 22/27] END max_depth=6, n_estimators=200, seed=4;, score=-381507526.867 total time=   5.6s\n",
      "[CV 5/5; 22/27] START max_depth=6, n_estimators=200, seed=4.....................\n",
      "[CV 5/5; 22/27] END max_depth=6, n_estimators=200, seed=4;, score=-413866239.007 total time=   6.2s\n",
      "[CV 1/5; 23/27] START max_depth=6, n_estimators=200, seed=8.....................\n",
      "[CV 1/5; 23/27] END max_depth=6, n_estimators=200, seed=8;, score=-1295142969.812 total time=   7.1s\n",
      "[CV 2/5; 23/27] START max_depth=6, n_estimators=200, seed=8.....................\n",
      "[CV 2/5; 23/27] END max_depth=6, n_estimators=200, seed=8;, score=-1004426325.173 total time=   8.9s\n",
      "[CV 3/5; 23/27] START max_depth=6, n_estimators=200, seed=8.....................\n",
      "[CV 3/5; 23/27] END max_depth=6, n_estimators=200, seed=8;, score=-1289494318.885 total time=   7.4s\n",
      "[CV 4/5; 23/27] START max_depth=6, n_estimators=200, seed=8.....................\n",
      "[CV 4/5; 23/27] END max_depth=6, n_estimators=200, seed=8;, score=-381507526.867 total time=   7.5s\n",
      "[CV 5/5; 23/27] START max_depth=6, n_estimators=200, seed=8.....................\n",
      "[CV 5/5; 23/27] END max_depth=6, n_estimators=200, seed=8;, score=-413866239.007 total time=   6.0s\n",
      "[CV 1/5; 24/27] START max_depth=6, n_estimators=200, seed=16....................\n",
      "[CV 1/5; 24/27] END max_depth=6, n_estimators=200, seed=16;, score=-1295142969.812 total time=   5.7s\n",
      "[CV 2/5; 24/27] START max_depth=6, n_estimators=200, seed=16....................\n",
      "[CV 2/5; 24/27] END max_depth=6, n_estimators=200, seed=16;, score=-1004426325.173 total time=   5.8s\n",
      "[CV 3/5; 24/27] START max_depth=6, n_estimators=200, seed=16....................\n",
      "[CV 3/5; 24/27] END max_depth=6, n_estimators=200, seed=16;, score=-1289494318.885 total time=   5.8s\n",
      "[CV 4/5; 24/27] START max_depth=6, n_estimators=200, seed=16....................\n",
      "[CV 4/5; 24/27] END max_depth=6, n_estimators=200, seed=16;, score=-381507526.867 total time=   5.7s\n",
      "[CV 5/5; 24/27] START max_depth=6, n_estimators=200, seed=16....................\n",
      "[CV 5/5; 24/27] END max_depth=6, n_estimators=200, seed=16;, score=-413866239.007 total time=   6.1s\n",
      "[CV 1/5; 25/27] START max_depth=6, n_estimators=500, seed=4.....................\n",
      "[CV 1/5; 25/27] END max_depth=6, n_estimators=500, seed=4;, score=-1274828885.462 total time=  14.6s\n",
      "[CV 2/5; 25/27] START max_depth=6, n_estimators=500, seed=4.....................\n",
      "[CV 2/5; 25/27] END max_depth=6, n_estimators=500, seed=4;, score=-977904694.920 total time=  12.9s\n",
      "[CV 3/5; 25/27] START max_depth=6, n_estimators=500, seed=4.....................\n",
      "[CV 3/5; 25/27] END max_depth=6, n_estimators=500, seed=4;, score=-1270289410.480 total time=  13.2s\n",
      "[CV 4/5; 25/27] START max_depth=6, n_estimators=500, seed=4.....................\n",
      "[CV 4/5; 25/27] END max_depth=6, n_estimators=500, seed=4;, score=-361393356.385 total time=  13.8s\n",
      "[CV 5/5; 25/27] START max_depth=6, n_estimators=500, seed=4.....................\n",
      "[CV 5/5; 25/27] END max_depth=6, n_estimators=500, seed=4;, score=-394040868.424 total time=  14.8s\n",
      "[CV 1/5; 26/27] START max_depth=6, n_estimators=500, seed=8.....................\n",
      "[CV 1/5; 26/27] END max_depth=6, n_estimators=500, seed=8;, score=-1274828885.462 total time=  16.5s\n",
      "[CV 2/5; 26/27] START max_depth=6, n_estimators=500, seed=8.....................\n",
      "[CV 2/5; 26/27] END max_depth=6, n_estimators=500, seed=8;, score=-977904694.920 total time=  24.9s\n",
      "[CV 3/5; 26/27] START max_depth=6, n_estimators=500, seed=8.....................\n",
      "[CV 3/5; 26/27] END max_depth=6, n_estimators=500, seed=8;, score=-1270289410.480 total time=  27.0s\n",
      "[CV 4/5; 26/27] START max_depth=6, n_estimators=500, seed=8.....................\n",
      "[CV 4/5; 26/27] END max_depth=6, n_estimators=500, seed=8;, score=-361393356.385 total time=  33.4s\n",
      "[CV 5/5; 26/27] START max_depth=6, n_estimators=500, seed=8.....................\n",
      "[CV 5/5; 26/27] END max_depth=6, n_estimators=500, seed=8;, score=-394040868.424 total time=  50.0s\n",
      "[CV 1/5; 27/27] START max_depth=6, n_estimators=500, seed=16....................\n",
      "[CV 1/5; 27/27] END max_depth=6, n_estimators=500, seed=16;, score=-1274828885.462 total time=  24.2s\n",
      "[CV 2/5; 27/27] START max_depth=6, n_estimators=500, seed=16....................\n",
      "[CV 2/5; 27/27] END max_depth=6, n_estimators=500, seed=16;, score=-977904694.920 total time=  23.5s\n",
      "[CV 3/5; 27/27] START max_depth=6, n_estimators=500, seed=16....................\n",
      "[CV 3/5; 27/27] END max_depth=6, n_estimators=500, seed=16;, score=-1270289410.480 total time=  18.2s\n",
      "[CV 4/5; 27/27] START max_depth=6, n_estimators=500, seed=16....................\n",
      "[CV 4/5; 27/27] END max_depth=6, n_estimators=500, seed=16;, score=-361393356.385 total time=  17.9s\n",
      "[CV 5/5; 27/27] START max_depth=6, n_estimators=500, seed=16....................\n",
      "[CV 5/5; 27/27] END max_depth=6, n_estimators=500, seed=16;, score=-394040868.424 total time=  17.8s\n",
      "-773883890.2387407\n",
      "{'max_depth': 4, 'n_estimators': 500, 'seed': 4}\n"
     ]
    }
   ],
   "source": [
    "xgb_r = xg.XGBRegressor(objective = 'reg:squarederror')\n",
    "\n",
    "optimization_dict = {'max_depth': [2, 4, 6],\n",
    "                     'n_estimators': [100, 200, 500],\n",
    "                    'seed': [4, 8, 16]}\n",
    "\n",
    "mse = make_scorer(MSE,greater_is_better=False)\n",
    "\n",
    "xgb_grid_search_model = GridSearchCV(xgb_r, optimization_dict, scoring=mse, verbose=10)\n",
    "\n",
    "xgb_grid_search_model.fit(train_X, train_y)\n",
    "\n",
    "print(xgb_grid_search_model.best_score_)\n",
    "print(xgb_grid_search_model.best_params_)"
   ]
  },
  {
   "cell_type": "code",
   "execution_count": 11,
   "id": "f590dd25",
   "metadata": {},
   "outputs": [],
   "source": [
    "xgb_pred = xgb_grid_search_model.predict(test_X)"
   ]
  },
  {
   "cell_type": "code",
   "execution_count": 53,
   "id": "983a754f",
   "metadata": {},
   "outputs": [
    {
     "data": {
      "text/plain": [
       "['grid_search_model.save']"
      ]
     },
     "execution_count": 53,
     "metadata": {},
     "output_type": "execute_result"
    }
   ],
   "source": [
    "import joblib\n",
    "joblib.dump(xgb_grid_search_model, \"grid_search_model.save\")"
   ]
  },
  {
   "cell_type": "markdown",
   "id": "b4af9a74",
   "metadata": {},
   "source": [
    "#### Mead Squared Error for the linear regression model"
   ]
  },
  {
   "cell_type": "code",
   "execution_count": 12,
   "id": "a61ed26e",
   "metadata": {},
   "outputs": [
    {
     "name": "stdout",
     "output_type": "stream",
     "text": [
      "19857.244100963322\n"
     ]
    }
   ],
   "source": [
    "print(sqrt(MSE(test_y, xgb_pred)))"
   ]
  },
  {
   "cell_type": "markdown",
   "id": "50b254d8",
   "metadata": {},
   "source": [
    "### Neural networks"
   ]
  },
  {
   "cell_type": "code",
   "execution_count": 31,
   "id": "598c405c",
   "metadata": {},
   "outputs": [
    {
     "name": "stdout",
     "output_type": "stream",
     "text": [
      "Model: \"sequential_2\"\n",
      "_________________________________________________________________\n",
      " Layer (type)                Output Shape              Param #   \n",
      "=================================================================\n",
      " dense_12 (Dense)            (None, 256)               7680      \n",
      "                                                                 \n",
      " batch_normalization_5 (Batc  (None, 256)              1024      \n",
      " hNormalization)                                                 \n",
      "                                                                 \n",
      " dropout_8 (Dropout)         (None, 256)               0         \n",
      "                                                                 \n",
      " dense_13 (Dense)            (None, 128)               32896     \n",
      "                                                                 \n",
      " batch_normalization_6 (Batc  (None, 128)              512       \n",
      " hNormalization)                                                 \n",
      "                                                                 \n",
      " dropout_9 (Dropout)         (None, 128)               0         \n",
      "                                                                 \n",
      " dense_14 (Dense)            (None, 128)               16512     \n",
      "                                                                 \n",
      " batch_normalization_7 (Batc  (None, 128)              512       \n",
      " hNormalization)                                                 \n",
      "                                                                 \n",
      " dropout_10 (Dropout)        (None, 128)               0         \n",
      "                                                                 \n",
      " dense_15 (Dense)            (None, 64)                8256      \n",
      "                                                                 \n",
      " batch_normalization_8 (Batc  (None, 64)               256       \n",
      " hNormalization)                                                 \n",
      "                                                                 \n",
      " dropout_11 (Dropout)        (None, 64)                0         \n",
      "                                                                 \n",
      " dense_16 (Dense)            (None, 64)                4160      \n",
      "                                                                 \n",
      " dense_17 (Dense)            (None, 1)                 65        \n",
      "                                                                 \n",
      "=================================================================\n",
      "Total params: 71,873\n",
      "Trainable params: 70,721\n",
      "Non-trainable params: 1,152\n",
      "_________________________________________________________________\n"
     ]
    }
   ],
   "source": [
    "nn_model = keras.Sequential(\n",
    "    [\n",
    "        layers.Dense(256, input_dim = len(data.columns) - 1, activation = 'relu'),\n",
    "        layers.BatchNormalization(),\n",
    "        layers.Dropout(0.2),\n",
    "        layers.Dense(128, activation='relu'),\n",
    "        layers.Dropout(0.2),\n",
    "        layers.Dense(128, activation='relu'),\n",
    "        layers.Dense(64, activation='relu'),\n",
    "        layers.Dropout(0.2),\n",
    "        layers.Dense(64, activation='relu'),\n",
    "        layers.Dense(1, activation = 'linear')\n",
    "    ]\n",
    ")\n",
    "\n",
    "nn_model.summary()"
   ]
  },
  {
   "cell_type": "code",
   "execution_count": 32,
   "id": "8e94a0cf",
   "metadata": {},
   "outputs": [],
   "source": [
    "nn_model.compile(loss = 'mse', optimizer = 'adam', metrics = ['mse', 'mae'])"
   ]
  },
  {
   "cell_type": "code",
   "execution_count": 33,
   "id": "f99a21a8",
   "metadata": {},
   "outputs": [],
   "source": [
    "from keras import callbacks\n",
    "earlystopping = callbacks.EarlyStopping(monitor =\"val_loss\", \n",
    "                                        mode =\"min\", patience = 10, \n",
    "                                        restore_best_weights = True)"
   ]
  },
  {
   "cell_type": "code",
   "execution_count": 45,
   "id": "c5a3195e",
   "metadata": {},
   "outputs": [
    {
     "name": "stdout",
     "output_type": "stream",
     "text": [
      "Epoch 1/216\n",
      "188/188 [==============================] - 1s 5ms/step - loss: 117962539008.0000 - mse: 117962539008.0000 - mae: 172803.3594 - val_loss: 261983371264.0000 - val_mse: 261983371264.0000 - val_mae: 209532.7656\n",
      "Epoch 2/216\n",
      "188/188 [==============================] - 1s 5ms/step - loss: 128610140160.0000 - mse: 128610140160.0000 - mae: 179002.3750 - val_loss: 99365830656.0000 - val_mse: 99365830656.0000 - val_mae: 156153.7344\n",
      "Epoch 3/216\n",
      "188/188 [==============================] - 1s 5ms/step - loss: 125650919424.0000 - mse: 125650919424.0000 - mae: 176245.0469 - val_loss: 117840920576.0000 - val_mse: 117840920576.0000 - val_mae: 153214.3594\n",
      "Epoch 4/216\n",
      "188/188 [==============================] - 1s 5ms/step - loss: 122501242880.0000 - mse: 122501242880.0000 - mae: 174482.1406 - val_loss: 138453286912.0000 - val_mse: 138453286912.0000 - val_mae: 149137.4375\n",
      "Epoch 5/216\n",
      "188/188 [==============================] - 1s 5ms/step - loss: 117606096896.0000 - mse: 117606096896.0000 - mae: 172546.7344 - val_loss: 1696070762496.0000 - val_mse: 1696070762496.0000 - val_mae: 165359.7812\n",
      "Epoch 6/216\n",
      "188/188 [==============================] - 1s 5ms/step - loss: 115488219136.0000 - mse: 115488219136.0000 - mae: 169129.5000 - val_loss: 469342617600.0000 - val_mse: 469342617600.0000 - val_mae: 155882.7656\n",
      "Epoch 7/216\n",
      "188/188 [==============================] - 1s 5ms/step - loss: 108257787904.0000 - mse: 108257787904.0000 - mae: 163446.0000 - val_loss: 320429752320.0000 - val_mse: 320429752320.0000 - val_mae: 159436.4062\n",
      "Epoch 8/216\n",
      "188/188 [==============================] - 1s 5ms/step - loss: 112130121728.0000 - mse: 112130121728.0000 - mae: 167180.5469 - val_loss: 3340193234944.0000 - val_mse: 3340193234944.0000 - val_mae: 158420.2969\n",
      "Epoch 9/216\n",
      "188/188 [==============================] - 1s 5ms/step - loss: 104309481472.0000 - mse: 104309481472.0000 - mae: 161824.0312 - val_loss: 2630054838272.0000 - val_mse: 2630054838272.0000 - val_mae: 159133.5156\n",
      "Epoch 10/216\n",
      "188/188 [==============================] - 1s 5ms/step - loss: 100816134144.0000 - mse: 100816134144.0000 - mae: 160023.8594 - val_loss: 1916012462080.0000 - val_mse: 1916012462080.0000 - val_mae: 152031.8750\n",
      "Epoch 11/216\n",
      "188/188 [==============================] - 1s 5ms/step - loss: 94876246016.0000 - mse: 94876246016.0000 - mae: 153161.1406 - val_loss: 3626992926720.0000 - val_mse: 3626992926720.0000 - val_mae: 237871.5000\n",
      "Epoch 12/216\n",
      "188/188 [==============================] - 1s 5ms/step - loss: 87866589184.0000 - mse: 87866589184.0000 - mae: 148487.1094 - val_loss: 6360783650816.0000 - val_mse: 6360783650816.0000 - val_mae: 187997.2812\n"
     ]
    }
   ],
   "source": [
    "history = nn_model.fit(train_X, train_y, epochs = 216, batch_size = 256, validation_split = 0.2, callbacks = [earlystopping])"
   ]
  },
  {
   "cell_type": "code",
   "execution_count": 46,
   "id": "bb2aaa0a",
   "metadata": {},
   "outputs": [],
   "source": [
    "nn_pred = nn_model.predict(test_X)"
   ]
  },
  {
   "cell_type": "code",
   "execution_count": 47,
   "id": "026453c6",
   "metadata": {},
   "outputs": [
    {
     "name": "stdout",
     "output_type": "stream",
     "text": [
      "489574.8496451499\n"
     ]
    }
   ],
   "source": [
    "print(sqrt(MSE(test_y, nn_pred)))"
   ]
  },
  {
   "cell_type": "code",
   "execution_count": 48,
   "id": "b74530c2",
   "metadata": {},
   "outputs": [
    {
     "name": "stdout",
     "output_type": "stream",
     "text": [
      "dict_keys(['loss', 'mse', 'mae', 'val_loss', 'val_mse', 'val_mae'])\n"
     ]
    },
    {
     "data": {
      "image/png": "[encoded data removed]",
      "text/plain": [
       "<Figure size 432x288 with 1 Axes>"
      ]
     },
     "metadata": {
      "needs_background": "light"
     },
     "output_type": "display_data"
    }
   ],
   "source": [
    "print(history.history.keys())\n",
    "plt.plot(history.history['loss'])\n",
    "plt.plot(history.history['val_loss'])\n",
    "plt.title('model loss')\n",
    "plt.ylabel('loss')\n",
    "plt.xlabel('epoch')\n",
    "plt.legend(['train', 'validation'], loc='upper left')\n",
    "plt.show()"
   ]
  },
  {
   "cell_type": "code",
   "execution_count": 49,
   "id": "085d3a7d",
   "metadata": {},
   "outputs": [
    {
     "name": "stdout",
     "output_type": "stream",
     "text": [
      "Epoch 1/1000\n",
      "481/481 [==============================] - 1s 3ms/step - loss: 132382498816.0000 - mse: 132382498816.0000 - mae: 179757.7656 - val_loss: 126468595712.0000 - val_mse: 126468595712.0000 - val_mae: 159431.2188\n",
      "Epoch 2/1000\n",
      "481/481 [==============================] - 2s 3ms/step - loss: 129544527872.0000 - mse: 129544527872.0000 - mae: 178001.2031 - val_loss: 521991847936.0000 - val_mse: 521991847936.0000 - val_mae: 176617.2500\n",
      "Epoch 3/1000\n",
      "481/481 [==============================] - 2s 3ms/step - loss: 129683169280.0000 - mse: 129683169280.0000 - mae: 180222.4062 - val_loss: 151750017024.0000 - val_mse: 151750017024.0000 - val_mae: 151605.7812\n",
      "Epoch 4/1000\n",
      "481/481 [==============================] - 2s 3ms/step - loss: 125308698624.0000 - mse: 125308698624.0000 - mae: 176772.0000 - val_loss: 1740911935488.0000 - val_mse: 1740911673344.0000 - val_mae: 170969.2344\n",
      "Epoch 5/1000\n",
      "481/481 [==============================] - 2s 3ms/step - loss: 131073531904.0000 - mse: 131073531904.0000 - mae: 182290.9531 - val_loss: 6027377377280.0000 - val_mse: 6027377377280.0000 - val_mae: 193189.2812\n",
      "Epoch 6/1000\n",
      "481/481 [==============================] - 2s 4ms/step - loss: 123214503936.0000 - mse: 123214503936.0000 - mae: 174910.5312 - val_loss: 5217403797504.0000 - val_mse: 5217403797504.0000 - val_mae: 194847.3125\n",
      "Epoch 7/1000\n",
      "481/481 [==============================] - 2s 3ms/step - loss: 120915361792.0000 - mse: 120915361792.0000 - mae: 173041.0938 - val_loss: 5248455278592.0000 - val_mse: 5248455278592.0000 - val_mae: 188235.8125\n",
      "Epoch 8/1000\n",
      "481/481 [==============================] - 2s 3ms/step - loss: 121329115136.0000 - mse: 121329115136.0000 - mae: 173961.5625 - val_loss: 6324626128896.0000 - val_mse: 6324626128896.0000 - val_mae: 202687.0469\n",
      "Epoch 9/1000\n",
      "481/481 [==============================] - 2s 3ms/step - loss: 134405144576.0000 - mse: 134405144576.0000 - mae: 180926.6406 - val_loss: 10890021699584.0000 - val_mse: 10890021699584.0000 - val_mae: 208014.0469\n",
      "Epoch 10/1000\n",
      "481/481 [==============================] - 2s 3ms/step - loss: 127910510592.0000 - mse: 127910510592.0000 - mae: 177639.2656 - val_loss: 26407310721024.0000 - val_mse: 26407310721024.0000 - val_mae: 309895.3750\n",
      "Epoch 11/1000\n",
      "481/481 [==============================] - 2s 3ms/step - loss: 120459608064.0000 - mse: 120459608064.0000 - mae: 172931.8750 - val_loss: 1189253218304.0000 - val_mse: 1189253218304.0000 - val_mae: 180242.0156\n"
     ]
    }
   ],
   "source": [
    "history_2 = nn_model.fit(train_X, train_y, epochs = 1000, batch_size = 100, validation_split = 0.2, callbacks = [earlystopping])"
   ]
  },
  {
   "cell_type": "code",
   "execution_count": 50,
   "id": "f4aec834",
   "metadata": {},
   "outputs": [],
   "source": [
    "nn_pred_2 = nn_model.predict(test_X)"
   ]
  },
  {
   "cell_type": "code",
   "execution_count": 51,
   "id": "b5a7490f",
   "metadata": {},
   "outputs": [
    {
     "name": "stdout",
     "output_type": "stream",
     "text": [
      "1263842.1141725262\n"
     ]
    }
   ],
   "source": [
    "print(sqrt(MSE(test_y, nn_pred_2)))"
   ]
  },
  {
   "cell_type": "code",
   "execution_count": 23,
   "id": "9ad4b4f6",
   "metadata": {},
   "outputs": [
    {
     "name": "stdout",
     "output_type": "stream",
     "text": [
      "dict_keys(['loss', 'mse', 'mae', 'val_loss', 'val_mse', 'val_mae'])\n"
     ]
    },
    {
     "data": {
      "image/png": "[encoded data removed]",
      "text/plain": [
       "<Figure size 432x288 with 1 Axes>"
      ]
     },
     "metadata": {
      "needs_background": "light"
     },
     "output_type": "display_data"
    }
   ],
   "source": [
    "print(history_2.history.keys())\n",
    "plt.plot(history_2.history['loss'])\n",
    "plt.plot(history_2.history['val_loss'])\n",
    "plt.title('model loss')\n",
    "plt.ylabel('loss')\n",
    "plt.xlabel('epoch')\n",
    "plt.legend(['train', 'validation'], loc='upper left')\n",
    "plt.show()"
   ]
  },
  {
   "cell_type": "code",
   "execution_count": null,
   "id": "bfcb44dc",
   "metadata": {},
   "outputs": [],
   "source": []
  }
 ],
 "metadata": {
  "kernelspec": {
   "display_name": "Python 3 (ipykernel)",
   "language": "python",
   "name": "python3"
  },
  "language_info": {
   "codemirror_mode": {
    "name": "ipython",
    "version": 3
   },
   "file_extension": ".py",
   "mimetype": "text/x-python",
   "name": "python",
   "nbconvert_exporter": "python",
   "pygments_lexer": "ipython3",
   "version": "3.9.12"
  }
 },
 "nbformat": 4,
 "nbformat_minor": 5
}
